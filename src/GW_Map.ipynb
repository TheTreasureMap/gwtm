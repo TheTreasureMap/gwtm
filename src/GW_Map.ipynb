{
 "cells": [
  {
   "cell_type": "markdown",
   "id": "e011d4dd-3e8d-4718-b1cb-8b5398c290d1",
   "metadata": {},
   "source": [
    "a.) Use the API Pointings GET endpoint and query for all completed pointings for\n",
    "the GW190814 and GW190425 events."
   ]
  },
  {
   "cell_type": "code",
   "execution_count": 2,
   "id": "51164c67-0b8a-4fc8-94b3-7eca9c2e6415",
   "metadata": {},
   "outputs": [],
   "source": [
    "# Use requests library for HTTP requests\n",
    "import requests\n",
    "# Parse/split a url link\n",
    "import urllib.parse\n",
    "# Working with JSON data\n",
    "import os, sys, json\n",
    "# Utilize a familiar format: dataframes \n",
    "import pandas as pd\n",
    "# Binning for histograms\n",
    "import numpy as np\n",
    "# Plotting\n",
    "import matplotlib.pyplot as plt\n",
    "# Handling date and time information\n",
    "import datetime\n",
    "BASE = 'http://127.0.0.1:5000/api/v1' # Base address\n",
    "API_TOKEN = \"Tsqx2GKTa7BdFMSrpqYWIOHtrI3cnccZeC0_LQ\" # API token"
   ]
  },
  {
   "cell_type": "code",
   "execution_count": 3,
   "id": "33867cb0-2e28-4897-888a-0a04c932df40",
   "metadata": {},
   "outputs": [],
   "source": [
    "response = requests.get(BASE, headers={'Authorization': 'access_token myToken'})"
   ]
  },
  {
   "cell_type": "code",
   "execution_count": 4,
   "id": "24d66298-2287-4a50-aaea-548a87bf11ee",
   "metadata": {},
   "outputs": [
    {
     "data": {
      "text/plain": [
       "['__attrs__',\n",
       " '__bool__',\n",
       " '__class__',\n",
       " '__delattr__',\n",
       " '__dict__',\n",
       " '__dir__',\n",
       " '__doc__',\n",
       " '__enter__',\n",
       " '__eq__',\n",
       " '__exit__',\n",
       " '__format__',\n",
       " '__ge__',\n",
       " '__getattribute__',\n",
       " '__getstate__',\n",
       " '__gt__',\n",
       " '__hash__',\n",
       " '__init__',\n",
       " '__init_subclass__',\n",
       " '__iter__',\n",
       " '__le__',\n",
       " '__lt__',\n",
       " '__module__',\n",
       " '__ne__',\n",
       " '__new__',\n",
       " '__nonzero__',\n",
       " '__reduce__',\n",
       " '__reduce_ex__',\n",
       " '__repr__',\n",
       " '__setattr__',\n",
       " '__setstate__',\n",
       " '__sizeof__',\n",
       " '__str__',\n",
       " '__subclasshook__',\n",
       " '__weakref__',\n",
       " '_content',\n",
       " '_content_consumed',\n",
       " '_next',\n",
       " 'apparent_encoding',\n",
       " 'close',\n",
       " 'connection',\n",
       " 'content',\n",
       " 'cookies',\n",
       " 'elapsed',\n",
       " 'encoding',\n",
       " 'headers',\n",
       " 'history',\n",
       " 'is_permanent_redirect',\n",
       " 'is_redirect',\n",
       " 'iter_content',\n",
       " 'iter_lines',\n",
       " 'json',\n",
       " 'links',\n",
       " 'next',\n",
       " 'ok',\n",
       " 'raise_for_status',\n",
       " 'raw',\n",
       " 'reason',\n",
       " 'request',\n",
       " 'status_code',\n",
       " 'text',\n",
       " 'url']"
      ]
     },
     "execution_count": 4,
     "metadata": {},
     "output_type": "execute_result"
    }
   ],
   "source": [
    "dir(response)"
   ]
  },
  {
   "cell_type": "code",
   "execution_count": 13,
   "id": "938c7a73-bbdd-4ea7-b3ae-78a247fd9d09",
   "metadata": {},
   "outputs": [
    {
     "name": "stdout",
     "output_type": "stream",
     "text": [
      "       id     status                position galaxy_catalog galaxy_catalogid  \\\n",
      "0    3811  completed  POINT (11.611 -23.436)                                   \n",
      "1    3812  completed  POINT (11.433 -22.823)                                   \n",
      "2    3813  completed  POINT (10.989 -22.227)                                   \n",
      "3    3814  completed  POINT (11.267 -22.126)                                   \n",
      "4    3815  completed   POINT (10.93 -22.429)                                   \n",
      "..    ...        ...                     ...            ...              ...   \n",
      "478  4134  completed   POINT (13.37 -26.691)                                   \n",
      "479  4135  completed  POINT (12.992 -25.361)                                   \n",
      "480  4136  completed  POINT (13.643 -24.858)                                   \n",
      "481  4137  completed  POINT (13.257 -24.981)                                   \n",
      "482  4138  completed  POINT (12.647 -25.364)                                   \n",
      "\n",
      "     instrumentid         depth depth_err  depth_unit                 time  \\\n",
      "0              13  5.700000e-12                     3  2019-08-16T16:09:29   \n",
      "1              13  5.700000e-12                     3  2019-08-16T16:11:14   \n",
      "2              13  5.000000e-12                     3  2019-08-16T16:12:45   \n",
      "3              13  4.700000e-12                     3  2019-08-16T16:14:27   \n",
      "4              13  4.700000e-12                     3  2019-08-16T16:16:14   \n",
      "..            ...           ...       ...         ...                  ...   \n",
      "478            13  9.000000e-13                     3  2019-08-18T20:41:22   \n",
      "479            13  8.000000e-13                     3  2019-08-18T19:28:28   \n",
      "480            13  8.000000e-13                     3  2019-08-18T19:19:24   \n",
      "481            13  8.000000e-13                     3  2019-08-18T19:10:47   \n",
      "482            13  7.000000e-13                     3  2019-08-18T19:00:13   \n",
      "\n",
      "                    datecreated dateupdated  submitterid  pos_angle band  \\\n",
      "0    2019-08-19T15:27:24.214774                        5    -17.505  XRT   \n",
      "1    2019-08-19T15:27:24.214937                        5    -11.039  XRT   \n",
      "2    2019-08-19T15:27:24.215095                        5    -11.444  XRT   \n",
      "3    2019-08-19T15:27:24.215253                        5    -11.669  XRT   \n",
      "4    2019-08-19T15:27:24.215418                        5    -11.242  XRT   \n",
      "..                          ...         ...          ...        ...  ...   \n",
      "478  2019-08-19T15:27:24.267310                        5    -23.879  XRT   \n",
      "479  2019-08-19T15:27:24.267471                        5    -12.409  XRT   \n",
      "480  2019-08-19T15:27:24.267629                        5    -15.448  XRT   \n",
      "481  2019-08-19T15:27:24.267788                        5    -13.943  XRT   \n",
      "482  2019-08-19T15:27:24.267950                        5    -28.232  XRT   \n",
      "\n",
      "                                    doi_url   doi_id  central_wave  bandwidth  \n",
      "0    https://doi.org/10.5281/zenodo.3569976  3569976       21.2839    20.0441  \n",
      "1    https://doi.org/10.5281/zenodo.3569976  3569976       21.2839    20.0441  \n",
      "2    https://doi.org/10.5281/zenodo.3569976  3569976       21.2839    20.0441  \n",
      "3    https://doi.org/10.5281/zenodo.3569976  3569976       21.2839    20.0441  \n",
      "4    https://doi.org/10.5281/zenodo.3569976  3569976       21.2839    20.0441  \n",
      "..                                      ...      ...           ...        ...  \n",
      "478  https://doi.org/10.5281/zenodo.3569976  3569976       21.2839    20.0441  \n",
      "479  https://doi.org/10.5281/zenodo.3569976  3569976       21.2839    20.0441  \n",
      "480  https://doi.org/10.5281/zenodo.3569976  3569976       21.2839    20.0441  \n",
      "481  https://doi.org/10.5281/zenodo.3569976  3569976       21.2839    20.0441  \n",
      "482  https://doi.org/10.5281/zenodo.3569976  3569976       21.2839    20.0441  \n",
      "\n",
      "[483 rows x 19 columns]\n"
     ]
    }
   ],
   "source": [
    "TARGET = \"pointings\"\n",
    "\n",
    "json_params = {\n",
    "    \"api_token\":API_TOKEN,\n",
    "    \"band\":\"XRT\",\n",
    "    \"status\":\"completed\",\n",
    "    \"graceid\":\"GW190814\"\n",
    "}\n",
    "\n",
    "url = \"{}/{}\".format(BASE, TARGET)\n",
    "\n",
    "r = requests.get(url=url, json=json_params)\n",
    "\n",
    "data = r.json()\n",
    "dataFrame = pd.DataFrame.from_dict(data)\n",
    "print(dataFrame)"
   ]
  },
  {
   "cell_type": "code",
   "execution_count": 20,
   "id": "d259976a",
   "metadata": {},
   "outputs": [
    {
     "data": {
      "text/plain": [
       "<Response [404]>"
      ]
     },
     "execution_count": 20,
     "metadata": {},
     "output_type": "execute_result"
    }
   ],
   "source": [
    "r"
   ]
  },
  {
   "cell_type": "code",
   "execution_count": 6,
   "id": "9b14bd20-8311-496c-99a3-329013ded1a5",
   "metadata": {},
   "outputs": [
    {
     "data": {
      "text/plain": [
       "str"
      ]
     },
     "execution_count": 6,
     "metadata": {},
     "output_type": "execute_result"
    }
   ],
   "source": [
    "type(r.text)"
   ]
  },
  {
   "cell_type": "code",
   "execution_count": 8,
   "id": "b6482599-9ca8-43bb-ae01-1fbf914c2ec8",
   "metadata": {},
   "outputs": [
    {
     "name": "stdout",
     "output_type": "stream",
     "text": [
      "       id     status                            position galaxy_catalog  \\\n",
      "0      17  completed             POINT (-176.302 24.127)                  \n",
      "1      18  completed             POINT (-125.137 21.907)                  \n",
      "2      19  completed             POINT (-104.287 25.041)                  \n",
      "3      20  completed  POINT (-103.62799999999999 22.267)                  \n",
      "4      21  completed  POINT (-110.08099999999999 14.777)                  \n",
      "..    ...        ...                                 ...            ...   \n",
      "800  8651  completed              POINT (14.282 -52.907)                  \n",
      "801  8652  completed               POINT (17.498 -45.73)                  \n",
      "802  8653  completed              POINT (86.826 -25.661)                  \n",
      "803  8654  completed              POINT (75.499 -22.776)                  \n",
      "804  8655  completed              POINT (75.012 -22.421)                  \n",
      "\n",
      "    galaxy_catalogid  instrumentid    depth depth_err depth_unit  \\\n",
      "0                               13                                 \n",
      "1                               13                                 \n",
      "2                               13                                 \n",
      "3                               13                                 \n",
      "4                               13                                 \n",
      "..               ...           ...      ...       ...        ...   \n",
      "800                             13    5e-12                    3   \n",
      "801                             13    5e-12                    3   \n",
      "802                             13  5.3e-12                    3   \n",
      "803                             13  4.7e-12                    3   \n",
      "804                             13  5.3e-12                    3   \n",
      "\n",
      "                    time                 datecreated dateupdated  submitterid  \\\n",
      "0    2019-04-26T00:40:32  2019-06-18T18:36:36.625710                        2   \n",
      "1    2019-04-26T00:43:24  2019-06-18T18:36:36.625944                        2   \n",
      "2    2019-04-26T00:45:21  2019-06-18T18:36:36.626149                        2   \n",
      "3    2019-04-26T00:47:10  2019-06-18T18:36:36.626323                        2   \n",
      "4    2019-04-26T00:49:13  2019-06-18T18:36:36.626495                        2   \n",
      "..                   ...                         ...         ...          ...   \n",
      "800  2019-04-26T00:09:33  2019-10-21T03:24:45.346665                        5   \n",
      "801  2019-04-26T00:07:34  2019-10-21T03:24:45.346822                        5   \n",
      "802  2019-04-26T00:04:34  2019-10-21T03:24:45.346979                        5   \n",
      "803  2019-04-26T00:02:24  2019-10-21T03:24:45.347143                        5   \n",
      "804  2019-04-26T00:00:45  2019-10-21T03:24:45.347296                        5   \n",
      "\n",
      "     pos_angle band doi_url doi_id  central_wave  bandwidth  \n",
      "0      190.424  XRT                      21.2839    20.0441  \n",
      "1      -70.777  XRT                      21.2839    20.0441  \n",
      "2      -54.783  XRT                      21.2839    20.0441  \n",
      "3      -52.755  XRT                      21.2839    20.0441  \n",
      "4      -51.794  XRT                      21.2839    20.0441  \n",
      "..         ...  ...     ...    ...           ...        ...  \n",
      "800    -70.133  XRT                      21.2839    20.0441  \n",
      "801    -73.428  XRT                      21.2839    20.0441  \n",
      "802    231.327  XRT                      21.2839    20.0441  \n",
      "803    238.888  XRT                      21.2839    20.0441  \n",
      "804    239.059  XRT                      21.2839    20.0441  \n",
      "\n",
      "[805 rows x 19 columns]\n"
     ]
    }
   ],
   "source": [
    "BASE = \"http://127.0.0.1:5000/api/v1/\"\n",
    "TARGET = \"pointings\"\n",
    "API_TOKEN = \"Tsqx2GKTa7BdFMSrpqYWIOHtrI3cnccZeC0_LQ\"\n",
    "\n",
    "json_params = {\n",
    "    \"api_token\":API_TOKEN,\n",
    "    \"band\":\"XRT\",\n",
    "    \"status\":\"completed\",\n",
    "    \"graceid\":\"GW190425\"\n",
    "}\n",
    "\n",
    "url = \"{}/{}\".format(BASE, TARGET)\n",
    "\n",
    "r = requests.get(url=url, json=json_params)\n",
    "\n",
    "data = r.json()\n",
    "dataFrame = pd.DataFrame.from_dict(data)\n",
    "print(dataFrame)"
   ]
  },
  {
   "cell_type": "code",
   "execution_count": 18,
   "id": "85b5999d",
   "metadata": {},
   "outputs": [
    {
     "name": "stdout",
     "output_type": "stream",
     "text": [
      "<!DOCTYPE html>\n",
      "<head>\n",
      "\t<meta charset=\"utf-8\">\n",
      "\t<title>Treasure Map</title>\n",
      "  <link rel=\"icon\" type=\"image/x-icon\" href=\"/static/gwtm_logo.png\">\n",
      "  <meta name=\"viewport\" content=\"width=device-width\">\n",
      "\n",
      "  <!--Jquery UI (needs to be before bootstrap)-->\n",
      "  <link rel=\"stylesheet\" href=\"https://code.jquery.com/ui/1.10.2/themes/smoothness/jquery-ui.css\" />\n",
      "  <script src=\"https://code.jquery.com/jquery-3.6.0.js\"></script>\n",
      "  <script src=\"https://code.jquery.com/ui/1.13.2/jquery-ui.js\"></script>\n",
      "\n",
      "  <!--Bootstrap-->\n",
      "  <link rel=\"stylesheet\" href=\"https://cdn.jsdelivr.net/npm/bootstrap@4.6.2/dist/css/bootstrap.min.css\" integrity=\"sha384-xOolHFLEh07PJGoPkLv1IbcEPTNtaed2xpHsD9ESMhqIYd0nLMwNLD69Npy4HI+N\" crossorigin=\"anonymous\">\n",
      "  <script src=\"https://cdn.jsdelivr.net/npm/popper.js@1.16.1/dist/umd/popper.min.js\" integrity=\"sha384-9/reFTGAW83EW2RDu2S0VKaIzap3H66lZH81PoYlFhbGU+6BZp6G7niu735Sk7lN\" crossorigin=\"anonymous\"></script>\n",
      "  <script src=\"https://cdn.jsdelivr.net/npm/bootstrap@4.6.2/dist/js/bootstrap.min.js\" integrity=\"sha384-+sLIOodYLS7CIrQpBjl+C7nPvqq+FbNUBDunl/OZv93DB7Ln/533i8e/mZXLi/P+\" crossorigin=\"anonymous\"></script>\n",
      "\n",
      "  <!--Bootstrap select MUST BE CALLED AFTER BOOTSTRAP-->\n",
      "  <link rel=\"stylesheet\" href=\"https://cdn.jsdelivr.net/npm/bootstrap-select@1.13.9/dist/css/bootstrap-select.min.css\">\n",
      "  <script src=\"https://cdn.jsdelivr.net/npm/bootstrap-select@1.13.9/dist/js/bootstrap-select.min.js\"></script>\n",
      "  <script src=\"https://cdnjs.cloudflare.com/ajax/libs/bootstrap-select/1.13.1/js/bootstrap-select.min.js\"></script>\n",
      "\n",
      "  <!--Aladin lite-->\n",
      "  <link rel=\"stylesheet\" href=\"http://aladin.u-strasbg.fr/AladinLite/api/v2/latest/aladin.min.css\" />\n",
      "  <link href=\"https://aladin.u-strasbg.fr/AladinLite/css/style.css\" rel=\"stylesheet\" />\n",
      "  <script type=\"text/javascript\" src=\"http://aladin.u-strasbg.fr/AladinLite/api/v2/latest/aladin.min.js\" charset=\"utf-8\"></script>\n",
      "\n",
      "  <!--Display Python Code-->\n",
      "  <link rel=\"stylesheet\" href=\"https://cdn.jsdelivr.net/npm/codemirror@5.61.0/lib/codemirror.min.css\">\n",
      "  <script src=\"https://cdn.jsdelivr.net/npm/codemirror@5.61.0/addon/runmode/runmode-standalone.min.js\"></script>\n",
      "  <script src=\"https://cdn.jsdelivr.net/npm/codemirror@5.61.0/mode/python/python.min.js\"></script>\n",
      "\n",
      "  <!--Plotly-->\n",
      "  <script src=\"https://cdn.plot.ly/plotly-latest.min.js\"></script>\n",
      "\n",
      "  <!--\n",
      "  <script src=\"https://ajax.googleapis.com/ajax/libs/jquery/3.4.1/jquery.min.js\"></script>\n",
      "  <link rel=\"stylesheet\" href=\"https://code.jquery.com/ui/1.10.2/themes/smoothness/jquery-ui.css\" />\n",
      "  <script src=\"https://code.jquery.com/ui/1.12.1/jquery-ui.min.js\"></script>\n",
      "  <link rel=\"stylesheet\" href=\"https://maxcdn.bootstrapcdn.com/bootstrap/3.4.0/css/bootstrap.min.css\">\n",
      "  <link rel=\"stylesheet\" href=\"https://cdn.jsdelivr.net/npm/bootstrap-select@1.13.9/dist/css/bootstrap-select.min.css\">\n",
      "  <script src=\"https://maxcdn.bootstrapcdn.com/bootstrap/3.4.0/js/bootstrap.min.js\"></script>\n",
      "  <script src=\"https://cdn.jsdelivr.net/npm/bootstrap-select@1.13.9/dist/js/bootstrap-select.min.js\"></script>\n",
      "  <script src=\"https://cdnjs.cloudflare.com/ajax/libs/bootstrap-select/1.13.1/js/bootstrap-select.min.js\"></script>\n",
      "  -->\n",
      "\n",
      "</head>\n",
      "\n",
      "<body>\n",
      "  <nav class=\"navbar navbar-expand-lg navbar-light bg-light\">\n",
      "    <div class=\"container\">\n",
      "      <a class=\"navbar-brand\" href=\"/\">\n",
      "        <img src=\"/static/gwtm_logo.png\" width=\"32\" height=\"32\" class=\"d-inline-block align-top\" alt=\"\">\n",
      "        TM\n",
      "      </a>\n",
      "      <button class=\"navbar-toggler\" type=\"button\" data-toggle=\"collapse\" data-target=\"#navbarNavDropdown\" aria-controls=\"navbarNavDropdown\" aria-expanded=\"false\" aria-label=\"Toggle navigation\">\n",
      "        <span class=\"navbar-toggler-icon\"></span>\n",
      "      </button>\n",
      "      <div class=\"collapse navbar-collapse\" id=\"navbarNavDropdown\">\n",
      "        <ul class=\"navbar-nav\">\n",
      "          <li class=\"nav-item\">\n",
      "            <a class=\"nav-link\" href=\"/\">Home <span class=\"sr-only\">(current)</span></a>\n",
      "          </li>\n",
      "          <li class=\"nav-item\">\n",
      "            <a class=\"nav-link\" href=\"/alert_select\">GW Events</a>\n",
      "          </li>\n",
      "          <li class=\"nav-item dropdown\">\n",
      "            <a class=\"nav-link dropdown-toggle\" href=\"#\" role=\"button\" data-toggle=\"dropdown\" aria-expanded=\"false\">\n",
      "              Query Pages\n",
      "            </a>\n",
      "            <div class=\"dropdown-menu\">\n",
      "              <a class=\"dropdown-item\" href=\"/search_pointings\">Pointings</a>\n",
      "              <a class=\"dropdown-item\" href=\"/search_instruments\">Instruments</a>\n",
      "            </div>\n",
      "          </li>\n",
      "          <li class=\"nav-item dropdown\">\n",
      "            <a class=\"nav-link dropdown-toggle\" href=\"#\" role=\"button\" data-toggle=\"dropdown\" aria-expanded=\"false\">\n",
      "              Submit Pages\n",
      "            </a>\n",
      "            <div class=\"dropdown-menu\">\n",
      "              <a class=\"dropdown-item\" href=\"/submit_pointings\">Pointings</a>\n",
      "              <a class=\"dropdown-item\" href=\"/submit_instrument\">Instruments</a>\n",
      "            </div>\n",
      "          </li>\n",
      "          <li class=\"nav-item dropdown\">\n",
      "            <a class=\"nav-link dropdown-toggle\" href=\"#\" role=\"button\" data-toggle=\"dropdown\" aria-expanded=\"false\">\n",
      "              Documentation\n",
      "            </a>\n",
      "            <div class=\"dropdown-menu\">\n",
      "              <a class=\"dropdown-item\" href=\"/documentation\">API Documentation</a>\n",
      "              <a class=\"dropdown-item\" href=\"/jupyter_tutorial\">API Jupyter Notebook Tutorial</a>\n",
      "              <a class=\"dropdown-item\" href=\"/development_blog\">What's New</a>\n",
      "            </div>\n",
      "          </li>\n",
      "        </ul>\n",
      "        <ul class=\"navbar-nav ml-auto\">\n",
      "          \n",
      "            <li class=\"nav-item\"><a class=\"nav-link\" href=\"/login\">Login</a></li>\n",
      "            <li class=\"nav-item\"><a class=\"nav-link\" href=\"/register\">Register</a></li>\n",
      "          \n",
      "        </ul>\n",
      "      </div>\n",
      "    </div>\n",
      "  </nav>\n",
      "  \n",
      "<!--\n",
      "  <nav class=\"navbar navbar-inverse\" style=\"background-color: #2c3840\">  \n",
      "  <div class=\"container\">\n",
      "    <div class=\"navbar-header\">\n",
      "      <a class=\"navbar-brand\" href=\"/\">Treasure Map</a>\n",
      "    </div>\n",
      "    <ul class=\"nav navbar-nav\">\n",
      "      <li class=\"nav-item\">\n",
      "        <a class=\"nav-link\" href=\"/\">Home</a>\n",
      "      </li>\n",
      "      <li class=\"nav-item\">\n",
      "        <a class=\"nav-link\" href=\"/alert_select\">GW Events</a>\n",
      "      </li>\n",
      "      <li class=\"dropdown\"><a class=\"dropdown-toggle\" data-toggle=\"dropdown\" href=\"#\">Query Pages <span class=\"caret\"></span></a>\n",
      "        <ul class=\"dropdown-menu\">\n",
      "          <li><a href=\"/search_pointings\">Pointings</a></li>\n",
      "          <li><a href=\"/search_instruments\">Instruments</a></li>\n",
      "        </ul>\n",
      "      </li>\n",
      "      <li class=\"dropdown\"><a class=\"dropdown-toggle\" data-toggle=\"dropdown\" href=\"#\">Submit Pages <span class=\"caret\"></span></a>\n",
      "        <ul class=\"dropdown-menu\">\n",
      "          <li><a href=\"/submit_pointings\">Pointings</a></li>\n",
      "          <li><a href=\"/submit_instrument\">Instruments</a></li>\n",
      "        </ul>\n",
      "      </li>\n",
      "      </li>\n",
      "        <li class=\"nav-item\">\n",
      "        <a class=\"nav-link\" href=\"/status\">Observatory Statuses</a>\n",
      "      </li>\n",
      "      <li class=\"dropdown\"><a class=\"dropdown-toggle\" data-toggle=\"dropdown\" href=\"#\">Documentation <span class=\"caret\"></span></a>\n",
      "        <ul class=\"dropdown-menu\">\n",
      "          <li><a href=\"/documentation\">API Documentation</a></li>\n",
      "          <li><a href=\"/jupyter_tutorial\">API Jupyter Notebook Tutorial</a></li>\n",
      "          <li><a href=\"/development_blog\">What's New</a></li>\n",
      "        </ul>\n",
      "    </ul> \n",
      "    <ul class=\"nav navbar-nav navbar-right\">\n",
      "        \n",
      "          <li><a href=\"/login\">Login</a></li>\n",
      "          <li><a href=\"/register\">Register</a></li>\n",
      "        \n",
      "    </ul>\n",
      "  </div>\n",
      "</nav>\n",
      "-->\n",
      "\n",
      "\n",
      "<div class=\"container-lg\">\n",
      "    \n",
      "      \n",
      "    \n",
      "\n",
      "    \n",
      "<div style=\"padding-left:16px\">\n",
      "    <h1>File Not Found</h1>\n",
      "    <p><a href=\"/index\">Home</a></p>\n",
      "</div>\n",
      "\n",
      "</div>\n",
      "\n",
      "\n",
      "<footer class=\"page-footer font-small blue\" style=\"padding: 20px\">\n",
      "\n",
      "  <!-- Copyright -->\n",
      "  <div class=\"footer-copyright text-center py-3\" style=\"font-size: 1em\">\n",
      "    <img style=\"width: 26px; height: 26px\" src=\"/static/git.png\">\n",
      "    <a href=\"https://github.com/TheTreasureMap/gwtm\">View Source</a>\n",
      "  </div>\n",
      "  <!-- Copyright -->\n",
      "\n",
      "</footer>\n",
      "\n",
      "\n",
      "</body>\n",
      "</html>\n"
     ]
    }
   ],
   "source": [
    "json_params = {\n",
    "    \"api_token\":API_TOKEN,\n",
    "    \"band\":\"XRT\",\n",
    "    \"status\":\"completed\",\n",
    "    \"graceid\":\"GW190425\",\n",
    "    \"id\":\"17\",\n",
    "    \"name\":\"Sinistro\"\n",
    "}\n",
    "\n",
    "url = \"{}/{}\".format(BASE, TARGET)\n",
    "\n",
    "r = requests.get(url=url + 'footprints', json=json_params)\n",
    "\n",
    "print()"
   ]
  },
  {
   "cell_type": "code",
   "execution_count": null,
   "id": "af1b8af1",
   "metadata": {},
   "outputs": [],
   "source": [
    "json_params = {\n",
    "    \"api_token\":API_TOKEN,\n",
    "    \"band\":\"XRT\",\n",
    "    \"status\":\"completed\",\n",
    "    \"graceid\":\"GW190425\",\n",
    "    \"id\":\"17\",\n",
    "    \"name\":\"Sinistro\"\n",
    "}\n",
    "\n",
    "url = \"{}/{}\".format(BASE, TARGET)\n",
    "\n",
    "r = requests.get(url=url + 'footprints', json=json_params)\n",
    "\n",
    "print()"
   ]
  },
  {
   "cell_type": "markdown",
   "id": "db1c7529-e673-4e26-8278-2e9948510b2d",
   "metadata": {},
   "source": [
    "Section 1.1 - Querying Pointings\n",
    "Here we will query all of the pointings for a given event, with various filtering parameters. All of the filtering parameters are described in the API documentation page for this GET endpoint"
   ]
  },
  {
   "cell_type": "code",
   "execution_count": 11,
   "id": "16463175-4871-4471-a44c-2071ccd13850",
   "metadata": {},
   "outputs": [
    {
     "name": "stdout",
     "output_type": "stream",
     "text": [
      "There are 61 pointings\n",
      "{'id': 4139, 'status': 'completed', 'position': 'POINT (-112.78800000000001 16.5661)', 'galaxy_catalog': '', 'galaxy_catalogid': '', 'instrumentid': 11, 'depth': 21.3, 'depth_err': '', 'depth_unit': 1, 'time': '2019-04-25T09:34:31', 'datecreated': '2019-08-19T20:43:10.239772', 'dateupdated': '', 'submitterid': 3, 'pos_angle': 0.0, 'band': 'open', 'doi_url': '', 'doi_id': '', 'central_wave': 7000.0, 'bandwidth': 3000.0}\n"
     ]
    }
   ],
   "source": [
    "# API Pointings (GET) endpoint\n",
    "TARGET = 'pointings'\n",
    "\n",
    "#define the filtering parameters\n",
    "#grab all of the completed pointings taken with a specific instrument for a given event\n",
    "\n",
    "graceid = 'GW190425'\n",
    "instrument = '11'\n",
    "\n",
    "params = {\n",
    "    \"api_token\": API_TOKEN,\n",
    "    \"instrument\":instrument,\n",
    "    \"graceid\":graceid,\n",
    "    \"status\":\"completed\"\n",
    "}\n",
    "\n",
    "url = \"{}/{}?{}\".format(BASE, TARGET, urllib.parse.urlencode(params))\n",
    "r = requests.get(url = url)\n",
    "num_pointings_GW190425 = len(json.loads(r.text))\n",
    "print(\"There are %s pointings\" % num_pointings_GW190425)\n",
    "\n",
    "#print the first\n",
    "print(json.loads(r.text)[0])"
   ]
  },
  {
   "cell_type": "code",
   "execution_count": 12,
   "id": "1038adb1-e1bb-498f-9f59-491dbb513f21",
   "metadata": {},
   "outputs": [
    {
     "name": "stdout",
     "output_type": "stream",
     "text": [
      "There are 483 pointings\n",
      "{'id': 3811, 'status': 'completed', 'position': 'POINT (11.611 -23.436)', 'galaxy_catalog': '', 'galaxy_catalogid': '', 'instrumentid': 13, 'depth': 5.7e-12, 'depth_err': '', 'depth_unit': 3, 'time': '2019-08-16T16:09:29', 'datecreated': '2019-08-19T15:27:24.214774', 'dateupdated': '', 'submitterid': 5, 'pos_angle': -17.505, 'band': 'XRT', 'doi_url': 'https://doi.org/10.5281/zenodo.3569976', 'doi_id': 3569976, 'central_wave': 21.2839, 'bandwidth': 20.0441}\n"
     ]
    }
   ],
   "source": [
    "TARGET = 'pointings'\n",
    "\n",
    "#define the filtering parameters \n",
    "#grab all of the completed pointings taken with a specific instrument for a given event\n",
    "\n",
    "graceid_2 = 'GW190814'\n",
    "instrument_2 = '13'\n",
    "\n",
    "params_2 = {\n",
    "    \"api_token\": API_TOKEN,\n",
    "    \"instrument\":instrument_2,\n",
    "    \"graceid\":graceid_2,\n",
    "    \"status\":\"completed\"\n",
    "}\n",
    "\n",
    "url = \"{}/{}?{}\".format(BASE, TARGET, urllib.parse.urlencode(params_2))\n",
    "r_2 = requests.get(url = url)\n",
    "num_pointings_GW190814 = len(json.loads(r_2.text))\n",
    "print(\"There are %s pointings\" % num_pointings_GW190814)\n",
    "\n",
    "#print the first\n",
    "print(json.loads(r_2.text)[0])"
   ]
  },
  {
   "cell_type": "markdown",
   "id": "ac1f57ac-2339-4a94-8cfa-0805c42b4b28",
   "metadata": {},
   "source": [
    "b.) From the results: Create a matplotlib histogram plot that bins the number of\n",
    "pointings in 2 hour bins since the time of the event. (this is for each event … 2 plots)"
   ]
  },
  {
   "cell_type": "code",
   "execution_count": 34,
   "id": "cc2dd52c",
   "metadata": {},
   "outputs": [
    {
     "data": {
      "text/plain": [
       "'2019-08-16T16:09:29'"
      ]
     },
     "execution_count": 34,
     "metadata": {},
     "output_type": "execute_result"
    }
   ],
   "source": [
    "json.loads(r_2.text)[0][\"time\"]"
   ]
  },
  {
   "cell_type": "code",
   "execution_count": 43,
   "id": "527e9021",
   "metadata": {},
   "outputs": [
    {
     "data": {
      "text/plain": [
       "'2019-08-16T16:09:29'"
      ]
     },
     "execution_count": 43,
     "metadata": {},
     "output_type": "execute_result"
    }
   ],
   "source": [
    "points[\"time\"]"
   ]
  },
  {
   "cell_type": "code",
   "execution_count": 50,
   "id": "643736fb-7e76-439a-abd5-11e1f6491476",
   "metadata": {},
   "outputs": [
    {
     "ename": "ValueError",
     "evalue": "Invalid isoformat string: '2019-08-14T21:10:39.012000'",
     "output_type": "error",
     "traceback": [
      "\u001b[0;31m---------------------------------------------------------------------------\u001b[0m",
      "\u001b[0;31mValueError\u001b[0m                                Traceback (most recent call last)",
      "\u001b[0;32m<ipython-input-50-b2fe5264fecd>\u001b[0m in \u001b[0;36m<module>\u001b[0;34m\u001b[0m\n\u001b[1;32m      4\u001b[0m \u001b[0mpointings\u001b[0m \u001b[0;34m=\u001b[0m \u001b[0mjson\u001b[0m\u001b[0;34m.\u001b[0m\u001b[0mloads\u001b[0m\u001b[0;34m(\u001b[0m\u001b[0mr_2\u001b[0m\u001b[0;34m.\u001b[0m\u001b[0mtext\u001b[0m\u001b[0;34m)\u001b[0m\u001b[0;34m\u001b[0m\u001b[0;34m\u001b[0m\u001b[0m\n\u001b[1;32m      5\u001b[0m \u001b[0mpoint_time_list_diff\u001b[0m \u001b[0;34m=\u001b[0m \u001b[0;34m[\u001b[0m\u001b[0;34m]\u001b[0m\u001b[0;34m\u001b[0m\u001b[0;34m\u001b[0m\u001b[0m\n\u001b[0;32m----> 6\u001b[0;31m \u001b[0mstart_const\u001b[0m \u001b[0;34m=\u001b[0m \u001b[0mdate\u001b[0m\u001b[0;34m.\u001b[0m\u001b[0mfromisoformat\u001b[0m\u001b[0;34m(\u001b[0m\u001b[0;34m\"2019-08-14T21:10:39.012000\"\u001b[0m\u001b[0;34m)\u001b[0m\u001b[0;34m\u001b[0m\u001b[0;34m\u001b[0m\u001b[0m\n\u001b[0m\u001b[1;32m      7\u001b[0m \u001b[0;32mfor\u001b[0m \u001b[0mpoints\u001b[0m \u001b[0;32min\u001b[0m \u001b[0mpointings\u001b[0m\u001b[0;34m:\u001b[0m\u001b[0;34m\u001b[0m\u001b[0;34m\u001b[0m\u001b[0m\n\u001b[1;32m      8\u001b[0m     \u001b[0mtd\u001b[0m \u001b[0;34m=\u001b[0m \u001b[0mdate\u001b[0m\u001b[0;34m.\u001b[0m\u001b[0mfromisoformat\u001b[0m\u001b[0;34m(\u001b[0m\u001b[0mpoints\u001b[0m\u001b[0;34m[\u001b[0m\u001b[0;34m\"time\"\u001b[0m\u001b[0;34m]\u001b[0m\u001b[0;34m)\u001b[0m \u001b[0;34m-\u001b[0m \u001b[0mstart_const\u001b[0m\u001b[0;34m\u001b[0m\u001b[0;34m\u001b[0m\u001b[0m\n",
      "\u001b[0;31mValueError\u001b[0m: Invalid isoformat string: '2019-08-14T21:10:39.012000'"
     ]
    }
   ],
   "source": [
    "from datetime import date\n",
    "import dateutil.parser as parser\n",
    "\n",
    "pointings = json.loads(r_2.text)\n",
    "point_time_list_diff = []\n",
    "start_const = date.fromisoformat(\"2019-08-14T21:10:39.012000\")\n",
    "for points in pointings:\n",
    "    td = date.fromisoformat(points[\"time\"]) - start_const\n",
    "    point_time_list_diff.append(td.total_seconds())\n",
    "#point_time_list\n",
    "# 2019-08-14 21:10:39.012000\n",
    "# convert into datetime\n",
    "#test = datetime.fromisoformat(point_time_list[0])\n",
    "#test\n",
    "start_const\n",
    "#test - start_const\n",
    "point_time_list_diff"
   ]
  },
  {
   "cell_type": "code",
   "execution_count": 51,
   "id": "6cd01c69-6755-4504-ae26-e1dcc0dc6653",
   "metadata": {},
   "outputs": [
    {
     "ename": "AttributeError",
     "evalue": "'dict' object has no attribute 'split'",
     "output_type": "error",
     "traceback": [
      "\u001b[0;31m---------------------------------------------------------------------------\u001b[0m",
      "\u001b[0;31mAttributeError\u001b[0m                            Traceback (most recent call last)",
      "\u001b[0;32m<ipython-input-51-56baa77ae7a4>\u001b[0m in \u001b[0;36m<module>\u001b[0;34m\u001b[0m\n\u001b[1;32m     15\u001b[0m \u001b[0;31m#2019-08-18 17:34:50 - index 25\u001b[0m\u001b[0;34m\u001b[0m\u001b[0;34m\u001b[0m\u001b[0;34m\u001b[0m\u001b[0m\n\u001b[1;32m     16\u001b[0m \u001b[0;34m\u001b[0m\u001b[0m\n\u001b[0;32m---> 17\u001b[0;31m \u001b[0mtime\u001b[0m \u001b[0;34m=\u001b[0m \u001b[0mdata\u001b[0m\u001b[0;34m.\u001b[0m\u001b[0msplit\u001b[0m\u001b[0;34m(\u001b[0m\u001b[0;34m\",\"\u001b[0m\u001b[0;34m)\u001b[0m\u001b[0;34m[\u001b[0m\u001b[0;36m9\u001b[0m\u001b[0;34m]\u001b[0m\u001b[0;34m[\u001b[0m\u001b[0;36m9\u001b[0m\u001b[0;34m:\u001b[0m\u001b[0;34m]\u001b[0m\u001b[0;34m\u001b[0m\u001b[0;34m\u001b[0m\u001b[0m\n\u001b[0m\u001b[1;32m     18\u001b[0m \u001b[0mprint\u001b[0m\u001b[0;34m(\u001b[0m\u001b[0mtime\u001b[0m\u001b[0;34m)\u001b[0m\u001b[0;34m\u001b[0m\u001b[0;34m\u001b[0m\u001b[0m\n\u001b[1;32m     19\u001b[0m \u001b[0mtime\u001b[0m \u001b[0;34m=\u001b[0m \u001b[0mtime\u001b[0m\u001b[0;34m.\u001b[0m\u001b[0mreplace\u001b[0m\u001b[0;34m(\u001b[0m\u001b[0;34m'\"'\u001b[0m\u001b[0;34m,\u001b[0m \u001b[0;34m''\u001b[0m\u001b[0;34m)\u001b[0m\u001b[0;34m\u001b[0m\u001b[0;34m\u001b[0m\u001b[0m\n",
      "\u001b[0;31mAttributeError\u001b[0m: 'dict' object has no attribute 'split'"
     ]
    }
   ],
   "source": [
    "# Matplotlib histogram plot\n",
    "# Bins number of pointings, each in 2 hour bins since the time of the event\n",
    "# we are given information on time and number of pointings at a two hour window\n",
    "\n",
    "\n",
    "# 1st objective: access date time information\n",
    "\n",
    "# each index in the list is a observation\n",
    "data = json.loads(r_2.text)[10]\n",
    "# 483 pointings\n",
    "# each index include  a two minute window for every 2n in index\n",
    "\n",
    "#2019-08-16 16:09:29 - index 0\n",
    "#2019-08-16 16:26:49\n",
    "#2019-08-18 17:34:50 - index 25\n",
    "\n",
    "time = data.split(\",\")[9][9:]\n",
    "print(time)\n",
    "time = time.replace('\"', '')\n",
    "time = time.replace('T', ' ')\n",
    "\n",
    "from datetime import datetime\n",
    "date_time_str = time\n",
    "date_time_obj = datetime.strptime(date_time_str, '%Y-%m-%d %H:%M:%S')\n",
    "\n",
    "print (\"The type of the date is now\",  type(date_time_obj))\n",
    "print (\"The date is\", date_time_obj)\n",
    "#d1 = datetime.datetime(time)"
   ]
  },
  {
   "cell_type": "code",
   "execution_count": 46,
   "id": "a1e43126-cc99-42f2-b30b-ba830759e851",
   "metadata": {},
   "outputs": [
    {
     "name": "stdout",
     "output_type": "stream",
     "text": [
      "{'id': 3821, 'status': 'completed', 'position': 'POINT (10.287 -23.29)', 'galaxy_catalog': '', 'galaxy_catalogid': '', 'instrumentid': 13, 'depth': 4.7e-12, 'depth_err': '', 'depth_unit': 3, 'time': '2019-08-16T16:26:49', 'datecreated': '2019-08-19T15:27:24.216397', 'dateupdated': '', 'submitterid': 5, 'pos_angle': -9.983, 'band': 'XRT', 'doi_url': 'https://doi.org/10.5281/zenodo.3569976', 'doi_id': 3569976, 'central_wave': 21.2839, 'bandwidth': 20.0441}\n"
     ]
    }
   ],
   "source": [
    "print(data)"
   ]
  },
  {
   "cell_type": "code",
   "execution_count": 47,
   "id": "f98b12e1-0fe8-4a25-be3b-7420b00bc13a",
   "metadata": {},
   "outputs": [],
   "source": [
    "# 2nd objective: find a two hour window to store pointing count in bins"
   ]
  },
  {
   "cell_type": "code",
   "execution_count": 48,
   "id": "d1e4c505-63d7-4b5e-bf1d-2d09ddf9ba61",
   "metadata": {},
   "outputs": [
    {
     "data": {
      "text/plain": [
       "(array([0., 0., 0., 0., 0., 0., 0., 0., 0., 0., 0., 0., 0., 0., 0., 0., 0.,\n",
       "        0., 0., 0., 0., 0., 0., 0., 0., 0., 0., 0., 0., 0., 0., 0., 0., 0.,\n",
       "        0., 0., 0., 0., 0., 0., 0., 0., 0., 0., 0., 0., 0., 0., 0., 0., 0.,\n",
       "        0., 0., 0., 0., 0.]),\n",
       " array([0.        , 0.01785714, 0.03571429, 0.05357143, 0.07142857,\n",
       "        0.08928571, 0.10714286, 0.125     , 0.14285714, 0.16071429,\n",
       "        0.17857143, 0.19642857, 0.21428571, 0.23214286, 0.25      ,\n",
       "        0.26785714, 0.28571429, 0.30357143, 0.32142857, 0.33928571,\n",
       "        0.35714286, 0.375     , 0.39285714, 0.41071429, 0.42857143,\n",
       "        0.44642857, 0.46428571, 0.48214286, 0.5       , 0.51785714,\n",
       "        0.53571429, 0.55357143, 0.57142857, 0.58928571, 0.60714286,\n",
       "        0.625     , 0.64285714, 0.66071429, 0.67857143, 0.69642857,\n",
       "        0.71428571, 0.73214286, 0.75      , 0.76785714, 0.78571429,\n",
       "        0.80357143, 0.82142857, 0.83928571, 0.85714286, 0.875     ,\n",
       "        0.89285714, 0.91071429, 0.92857143, 0.94642857, 0.96428571,\n",
       "        0.98214286, 1.        ]),\n",
       " <BarContainer object of 56 artists>)"
      ]
     },
     "execution_count": 48,
     "metadata": {},
     "output_type": "execute_result"
    },
    {
     "data": {
      "image/png": "[encoded data removed]",
      "text/plain": [
       "<Figure size 432x288 with 1 Axes>"
      ]
     },
     "metadata": {
      "needs_background": "light"
     },
     "output_type": "display_data"
    }
   ],
   "source": [
    "counts, bins = np.histogram(np.asarray(point_time_list_diff)/(60*60))\n",
    "#plt.stairs(counts, bins)\n",
    "plt.hist(np.asarray(point_time_list_diff)/(60*60), bins=56)"
   ]
  },
  {
   "cell_type": "code",
   "execution_count": 49,
   "id": "2f1a8426-0391-48a2-b5e9-ec27428ebb04",
   "metadata": {},
   "outputs": [
    {
     "data": {
      "text/plain": [
       "array([0. , 0.1, 0.2, 0.3, 0.4, 0.5, 0.6, 0.7, 0.8, 0.9, 1. ])"
      ]
     },
     "execution_count": 49,
     "metadata": {},
     "output_type": "execute_result"
    }
   ],
   "source": [
    "bins"
   ]
  },
  {
   "cell_type": "code",
   "execution_count": 18,
   "id": "cbf456ea-ea71-4378-970a-b78b2a6c7ddc",
   "metadata": {},
   "outputs": [
    {
     "ename": "ValueError",
     "evalue": "max() arg is an empty sequence",
     "output_type": "error",
     "traceback": [
      "\u001b[0;31m---------------------------------------------------------------------------\u001b[0m",
      "\u001b[0;31mValueError\u001b[0m                                Traceback (most recent call last)",
      "\u001b[0;32m<ipython-input-18-1eb545d1be7c>\u001b[0m in \u001b[0;36m<module>\u001b[0;34m\u001b[0m\n\u001b[0;32m----> 1\u001b[0;31m \u001b[0mnp\u001b[0m\u001b[0;34m.\u001b[0m\u001b[0mceil\u001b[0m\u001b[0;34m(\u001b[0m\u001b[0mmax\u001b[0m\u001b[0;34m(\u001b[0m\u001b[0mnp\u001b[0m\u001b[0;34m.\u001b[0m\u001b[0masarray\u001b[0m\u001b[0;34m(\u001b[0m\u001b[0mpoint_time_list_diff\u001b[0m\u001b[0;34m)\u001b[0m\u001b[0;34m/\u001b[0m\u001b[0;34m(\u001b[0m\u001b[0;36m60\u001b[0m\u001b[0;34m*\u001b[0m\u001b[0;36m60\u001b[0m\u001b[0;34m)\u001b[0m\u001b[0;34m)\u001b[0m\u001b[0;34m/\u001b[0m\u001b[0;36m2\u001b[0m\u001b[0;34m)\u001b[0m\u001b[0;34m\u001b[0m\u001b[0;34m\u001b[0m\u001b[0m\n\u001b[0m",
      "\u001b[0;31mValueError\u001b[0m: max() arg is an empty sequence"
     ]
    }
   ],
   "source": [
    "np.ceil(max(np.asarray(point_time_list_diff)/(60*60))/2)"
   ]
  },
  {
   "cell_type": "markdown",
   "id": "4655f13d-ac92-4906-a888-e67908e48503",
   "metadata": {},
   "source": [
    "2.) Design problem: Design a postgres relational database for an astronomical observatory. This\n",
    "observatory will have a location (longitude, latitude, elevation). The observatory will\n",
    "have multiple telescopes, and each telescope will have multiple instruments.\n",
    "Secondly, design how the observatory will operate on a nightly basis. Create\n",
    "relational tables for observing runs, and how they will relate to the telescope and\n",
    "instrument. The observing runs for a telescope will contain multiple targets, each with\n",
    "their own names, positions, and observational requirements.\n",
    "The design should include multiple tables, aptly named. With primary id’s,\n",
    "appropriate column names, types, an indication if it will have a relation, and how it\n",
    "relates (i.e, 1->1 or 1->many or many->many).\n",
    "Be as creative as possible with what astronomy knowledge you have/gather. It doesn’t\n",
    "have to be perfect, I just want to see how you think when designing something like this."
   ]
  },
  {
   "cell_type": "code",
   "execution_count": null,
   "id": "30808f10-3956-4da7-9067-7a44f83de1c8",
   "metadata": {},
   "outputs": [],
   "source": [
    "# 1. This observatory will have a location (longitude, latitude, elevation).\n",
    "# 2. Observatory will have multiple telescopes, and \n",
    "# 3. each telescope will have multiple instruments\n",
    "\n",
    "# Postgres relational database\n",
    "\n",
    "# Each observatory maps to one location and elevation\n",
    "# RA, DEC, Elevation of observatory (1-1)\n",
    "\n",
    "# Each observatory maps to multiple telescopes (1-many)\n",
    "\n",
    "# Each telescope maps to multiple instruments (1-many)\n",
    "\n",
    "# Observatory operation\n",
    "# Relational tables for observing runs - telescope and instrument (many-1)\n",
    "# Multiple targets - names, positions and observational requirements (many-many)\n",
    "\n",
    "# Multiple tables aptly named\n",
    "# Primary id, column names, types, will it have a relation"
   ]
  },
  {
   "cell_type": "raw",
   "id": "fe5774c4-f207-4578-8ddf-40d706c2ad0c",
   "metadata": {},
   "source": [
    "OBSERVATORY -> TELESCOPE(S) -> INSTRUMENT(S) -> TARGET(S)\n",
    "\n",
    "    1. This observatory will have a location (longitude, latitude, elevation).\n",
    "    2. Observatory will have multiple telescopes, and \n",
    "    3. each telescope will have multiple instruments\n",
    "\n",
    "CREATE TABLE observatory (\n",
    "    observatory_id  SERIAL PRIMARY KEY,\n",
    "    name            string,\n",
    "    RA              int,        \n",
    "    DEC             int,\n",
    "    elevation       int,\n",
    "    telescope       string       --1-many\n",
    ");\n",
    "\n",
    "CREATE TABLE telescope (\n",
    "    telescope_id   SERIAL PRIMARY KEY,\n",
    "    author_id int,       \n",
    "    name           string,\n",
    "    instruments    string,        --1-many\n",
    "    CONSTRAINT fk_author FOREIGN KEY(author_id) REFERENCES author(observatory_id)\n",
    ");\n",
    "\n",
    "CREATE TABLE instruments (\n",
    "    instrument_id  SERIAL PRIMARY KEY,\n",
    "    author_id      int,\n",
    "    name           string,\n",
    "    CONSTRAINT fk_author FOREIGN KEY(author_id) REFERENCES author(telescope_id)\n",
    ");\n",
    "\n",
    "CREATE TABLE observing_run (\n",
    "    run_id          SERIAL PRIMARY KEY,\n",
    "    author_id       int,\n",
    "    targets         string,\n",
    "    requirements    int,\n",
    "    CONSTRAINT fk_author FOREIGN KEY(author_id) REFERENCES author(instrument_id)\n",
    ");\n",
    "\n",
    "CREATE TABLE targets (\n",
    "    id             SERIAL PRIMARY KEY,\n",
    "    author_id       int,\n",
    "    name            string,\n",
    "    RA              int,        \n",
    "    DEC             int,\n",
    "    requirements    int,\n",
    "    CONSTRAINT fk_author FOREIGN KEY(author_id) REFERENCES author(run_id)\n",
    ");\n",
    "\n",
    "# If many to many, join the tables somehow, some targets can be repeated across observing runs\n",
    "# Intermediate table"
   ]
  }
 ],
 "metadata": {
  "kernelspec": {
   "display_name": "Python 3 (ipykernel)",
   "language": "python",
   "name": "python3"
  },
  "language_info": {
   "codemirror_mode": {
    "name": "ipython",
    "version": 3
   },
   "file_extension": ".py",
   "mimetype": "text/x-python",
   "name": "python",
   "nbconvert_exporter": "python",
   "pygments_lexer": "ipython3",
   "version": "3.7.6"
  }
 },
 "nbformat": 4,
 "nbformat_minor": 5
}
